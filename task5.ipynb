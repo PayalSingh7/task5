{
 "cells": [
  {
   "cell_type": "code",
   "execution_count": 20,
   "id": "3982c58d-0b4e-45f1-a4b2-eb8c7eeb9c21",
   "metadata": {},
   "outputs": [
    {
     "name": "stdout",
     "output_type": "stream",
     "text": [
      "Requirement already satisfied: requests in c:\\users\\payal\\anaconda3\\lib\\site-packages (2.32.2)\n",
      "Requirement already satisfied: charset-normalizer<4,>=2 in c:\\users\\payal\\anaconda3\\lib\\site-packages (from requests) (2.0.4)\n",
      "Requirement already satisfied: idna<4,>=2.5 in c:\\users\\payal\\anaconda3\\lib\\site-packages (from requests) (3.7)\n",
      "Requirement already satisfied: urllib3<3,>=1.21.1 in c:\\users\\payal\\anaconda3\\lib\\site-packages (from requests) (2.2.2)\n",
      "Requirement already satisfied: certifi>=2017.4.17 in c:\\users\\payal\\anaconda3\\lib\\site-packages (from requests) (2024.7.4)\n",
      "Note: you may need to restart the kernel to use updated packages.\n"
     ]
    }
   ],
   "source": [
    "pip install requests"
   ]
  },
  {
   "cell_type": "code",
   "execution_count": 23,
   "id": "8cd6ecf3-a837-4c7c-9467-8d6900bb61bd",
   "metadata": {},
   "outputs": [],
   "source": [
    "# Import necessary libraries\n",
    "import tkinter as tk\n",
    "from tkinter import ttk, messagebox\n",
    "import requests\n",
    "\n",
    "# Replace with your API key\n",
    "API_KEY = \"efa22cb7ad36fbdde106d91d\"  # Add your API key here\n",
    "API_URL = f\"https://v6.exchangerate-api.com/v6/efa22cb7ad36fbdde106d91d/latest/USD\"\n",
    "\n",
    "# Function to fetch exchange rates\n",
    "def fetch_conversion_rate(target_currency):\n",
    "    try:\n",
    "        response = requests.get(API_URL)\n",
    "        data = response.json()\n",
    "        if data[\"result\"] == \"success\":\n",
    "            rates = data[\"conversion_rates\"]\n",
    "            return rates.get(target_currency, None)\n",
    "        else:\n",
    "            messagebox.showerror(\"Error\", \"Failed to fetch exchange rates from API.\")\n",
    "            return None\n",
    "    except Exception as e:\n",
    "        messagebox.showerror(\"Error\", f\"Error: {e}\")\n",
    "        return None\n",
    "\n",
    "# Function to perform conversion\n",
    "def convert_currency():\n",
    "    try:\n",
    "        usd_amount = float(entry_amount.get())\n",
    "        target_currency = combo_currency.get()\n",
    "        if not target_currency:\n",
    "            messagebox.showwarning(\"Warning\", \"Please select a target currency.\")\n",
    "            return\n",
    "        \n",
    "        rate = fetch_conversion_rate(target_currency)\n",
    "        if rate:\n",
    "            converted_amount = usd_amount * rate\n",
    "            label_result.config(text=f\"{usd_amount} USD = {converted_amount:.2f} {target_currency}\")\n",
    "        else:\n",
    "            label_result.config(text=\"Error: Invalid Target Currency.\")\n",
    "    except ValueError:\n",
    "        messagebox.showwarning(\"Warning\", \"Please enter a valid number for USD amount.\")\n",
    "\n",
    "# GUI setup using Tkinter\n",
    "root = tk.Tk()\n",
    "root.title(\"USD Currency Converter\")\n",
    "root.geometry(\"400x300\")\n",
    "root.resizable(False, False)\n",
    "\n",
    "# Title Label\n",
    "label_title = tk.Label(root, text=\"USD Currency Converter\", font=(\"Helvetica\", 16, \"bold\"))\n",
    "label_title.pack(pady=10)\n",
    "\n",
    "# Input Section\n",
    "frame_input = tk.Frame(root)\n",
    "frame_input.pack(pady=10)\n",
    "\n",
    "label_amount = tk.Label(frame_input, text=\"Amount in USD:\", font=(\"Helvetica\", 12))\n",
    "label_amount.grid(row=0, column=0, padx=5, pady=5)\n",
    "\n",
    "entry_amount = tk.Entry(frame_input, font=(\"Helvetica\", 12))\n",
    "entry_amount.grid(row=0, column=1, padx=5, pady=5)\n",
    "\n",
    "label_currency = tk.Label(frame_input, text=\"Target Currency:\", font=(\"Helvetica\", 12))\n",
    "label_currency.grid(row=1, column=0, padx=5, pady=5)\n",
    "\n",
    "# Dropdown for currency selection\n",
    "currencies = [\"EUR\", \"GBP\", \"INR\", \"JPY\", \"CAD\", \"AUD\"]  # Add more currencies as needed\n",
    "combo_currency = ttk.Combobox(frame_input, values=currencies, font=(\"Helvetica\", 12), state=\"readonly\")\n",
    "combo_currency.grid(row=1, column=1, padx=5, pady=5)\n",
    "\n",
    "# Convert Button\n",
    "button_convert = tk.Button(root, text=\"Convert\", font=(\"Helvetica\", 12, \"bold\"), bg=\"lightblue\", command=convert_currency)\n",
    "button_convert.pack(pady=10)\n",
    "\n",
    "# Result Label\n",
    "label_result = tk.Label(root, text=\"\", font=(\"Helvetica\", 14))\n",
    "label_result.pack(pady=10)\n",
    "\n",
    "# Run the Tkinter event loop\n",
    "root.mainloop()\n"
   ]
  }
 ],
 "metadata": {
  "kernelspec": {
   "display_name": "Python 3 (ipykernel)",
   "language": "python",
   "name": "python3"
  },
  "language_info": {
   "codemirror_mode": {
    "name": "ipython",
    "version": 3
   },
   "file_extension": ".py",
   "mimetype": "text/x-python",
   "name": "python",
   "nbconvert_exporter": "python",
   "pygments_lexer": "ipython3",
   "version": "3.12.4"
  }
 },
 "nbformat": 4,
 "nbformat_minor": 5
}
